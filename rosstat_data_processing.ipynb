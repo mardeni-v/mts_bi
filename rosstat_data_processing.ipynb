{
 "cells": [
  {
   "cell_type": "code",
   "execution_count": 2,
   "metadata": {
    "id": "7Gg5RPoPyxYW"
   },
   "outputs": [],
   "source": [
    "import requests\n",
    "import pandas as pd\n",
    "from bs4 import BeautifulSoup\n",
    "from urllib.request import urlopen, urlretrieve, quote\n",
    "from urllib.parse import urljoin\n",
    "import urllib.request\n",
    "from openpyxl import load_workbook\n",
    "from tqdm import tqdm_notebook"
   ]
  },
  {
   "cell_type": "markdown",
   "metadata": {
    "id": "XX1VjvT-te8n"
   },
   "source": [
    "# Источник 1:\n",
    "- Основные показатели в сферах телекоммуникации\n",
    "- Использование цифровых технологий в РФ "
   ]
  },
  {
   "cell_type": "code",
   "execution_count": 3,
   "metadata": {
    "id": "U9fMKvyny1Gm"
   },
   "outputs": [],
   "source": [
    "url = 'https://rosstat.gov.ru/statistics/science'\n",
    "connect_xls_url = 'https://rosstat.gov.ru'\n",
    "data = requests.get(url).text"
   ]
  },
  {
   "cell_type": "markdown",
   "metadata": {
    "id": "5hwVL_6Ftu5H"
   },
   "source": [
    "### Получение ссылок на актуальные файлы"
   ]
  },
  {
   "cell_type": "code",
   "execution_count": 4,
   "metadata": {
    "id": "MKJOtPaXHKev"
   },
   "outputs": [],
   "source": [
    "soup = BeautifulSoup(data, 'html.parser')"
   ]
  },
  {
   "cell_type": "code",
   "execution_count": 5,
   "metadata": {
    "id": "eCFsDmf1aWvK"
   },
   "outputs": [],
   "source": [
    "def get_links_dict(soup):\n",
    "  xls_blocks = soup.find_all('div',{'class':'document-list__item document-list__item--row'})\n",
    "  dimSource = {}\n",
    "\n",
    "  for idx in range(len(xls_blocks)):\n",
    "    title = xls_blocks[idx].find('div',{'class':'document-list__item-title'}).get_text().replace(\"\\n\", \"\").strip()\n",
    "    content = xls_blocks[idx].find('a',{'class':'btn btn-icon btn-white btn-br btn-sm'}).get('href')\n",
    "    download_link = connect_xls_url + content\n",
    "    dimSource[title] = download_link\n",
    "\n",
    "  return dimSource"
   ]
  },
  {
   "cell_type": "code",
   "execution_count": 6,
   "metadata": {
    "id": "59pL2-Hul32L"
   },
   "outputs": [],
   "source": [
    "dimSource = get_links_dict(soup)"
   ]
  },
  {
   "cell_type": "markdown",
   "metadata": {},
   "source": [
    "### Загрузка данных и обработка в pandas"
   ]
  },
  {
   "cell_type": "code",
   "execution_count": 7,
   "metadata": {
    "id": "doabZxMDnPaO"
   },
   "outputs": [],
   "source": [
    "#telecom - Основные показатели в сферах телекоммуникации\n",
    "#tech - Использование цифровых технологий в РФ\n",
    "\n",
    "df_telecom_name = 'Основные показатели в сфере телекоммуникаций (по данным Минцифры России и Росстата)'\n",
    "df_tech_name = 'Использование цифровых технологий организациями по Российской Федерации, субъектам Российской Федерации и видам экономической деятельности (с 2003 г.)'"
   ]
  },
  {
   "cell_type": "code",
   "execution_count": 8,
   "metadata": {
    "id": "NlWV_UNgaBVb"
   },
   "outputs": [],
   "source": [
    "years = list(range(1990,2022))\n",
    "\n",
    "def parse_df(link, sheet_name, skiprows, skipfooter, df_name):\n",
    "  df = pd.read_excel(\n",
    "    link, \n",
    "    sheet_name=sheet_name, \n",
    "    skiprows=skiprows,\n",
    "    skipfooter=skipfooter\n",
    "  )\n",
    "\n",
    "  df.replace({'...': None}, inplace=True)\n",
    "\n",
    "  df.columns = ['region'] + list(df.columns[1:-1]) + ['place']\n",
    "  df.region = df.region.str.replace('\\n', ' ')\n",
    "  df['value_type'] = df_name\n",
    "  \n",
    "  for year in years:\n",
    "    if year not in df.columns:\n",
    "      df[year] = None\n",
    "\n",
    "  df = df[1:].reset_index(drop=True)\n",
    "  df = df[['region', 'value_type', 'place'] + years]\n",
    "\n",
    "  df.dropna(axis=0, subset=df.columns[3:], how='all', inplace=True)\n",
    "\n",
    "  return df"
   ]
  },
  {
   "cell_type": "code",
   "execution_count": 9,
   "metadata": {
    "id": "oPQw7DjjXUJJ"
   },
   "outputs": [],
   "source": [
    "df_telecom_1 = parse_df(\n",
    "    dimSource[df_telecom_name], \n",
    "    sheet_name=1, \n",
    "    skiprows=5, \n",
    "    skipfooter=5, \n",
    "    df_name='telecom_usage_per_person'\n",
    ")\n",
    "\n",
    "df_telecom_2 = parse_df(\n",
    "    dimSource[df_telecom_name], \n",
    "    sheet_name=6, \n",
    "    skiprows=5, \n",
    "    skipfooter=5, \n",
    "    df_name='telecom_phone_count_per_1000'\n",
    ")\n",
    "\n",
    "df_tech_usage = parse_df(\n",
    "    dimSource[df_tech_name], \n",
    "    sheet_name=1, \n",
    "    skiprows=5, \n",
    "    skipfooter=5, \n",
    "    df_name='tech_usage'\n",
    ")"
   ]
  },
  {
   "cell_type": "code",
   "execution_count": 10,
   "metadata": {
    "id": "XwQwb72qii1Q"
   },
   "outputs": [],
   "source": [
    "telecom_tech = pd.concat([df_telecom_1, df_telecom_2, df_tech_usage], axis=0).sort_values('region')"
   ]
  },
  {
   "cell_type": "code",
   "execution_count": 12,
   "metadata": {
    "colab": {
     "base_uri": "https://localhost:8080/",
     "height": 713
    },
    "id": "_DYGsd88KLB8",
    "outputId": "d47a117d-f03c-4dc8-c433-38e64f7faac4"
   },
   "outputs": [
    {
     "data": {
      "text/html": [
       "<div>\n",
       "<style scoped>\n",
       "    .dataframe tbody tr th:only-of-type {\n",
       "        vertical-align: middle;\n",
       "    }\n",
       "\n",
       "    .dataframe tbody tr th {\n",
       "        vertical-align: top;\n",
       "    }\n",
       "\n",
       "    .dataframe thead th {\n",
       "        text-align: right;\n",
       "    }\n",
       "</style>\n",
       "<table border=\"1\" class=\"dataframe\">\n",
       "  <thead>\n",
       "    <tr style=\"text-align: right;\">\n",
       "      <th></th>\n",
       "      <th>region</th>\n",
       "      <th>value_type</th>\n",
       "      <th>place</th>\n",
       "      <th>1990</th>\n",
       "      <th>1991</th>\n",
       "      <th>1992</th>\n",
       "      <th>1993</th>\n",
       "      <th>1994</th>\n",
       "      <th>1995</th>\n",
       "      <th>1996</th>\n",
       "      <th>...</th>\n",
       "      <th>2012</th>\n",
       "      <th>2013</th>\n",
       "      <th>2014</th>\n",
       "      <th>2015</th>\n",
       "      <th>2016</th>\n",
       "      <th>2017</th>\n",
       "      <th>2018</th>\n",
       "      <th>2019</th>\n",
       "      <th>2020</th>\n",
       "      <th>2021</th>\n",
       "    </tr>\n",
       "  </thead>\n",
       "  <tbody>\n",
       "    <tr>\n",
       "      <th>79</th>\n",
       "      <td>Кемеровская область</td>\n",
       "      <td>telecom_usage_per_person</td>\n",
       "      <td>64.0</td>\n",
       "      <td>0.013</td>\n",
       "      <td>0.018</td>\n",
       "      <td>0.137</td>\n",
       "      <td>2.037</td>\n",
       "      <td>10.282</td>\n",
       "      <td>31.126</td>\n",
       "      <td>65.321</td>\n",
       "      <td>...</td>\n",
       "      <td>4213.377</td>\n",
       "      <td>4455.493</td>\n",
       "      <td>4382.932</td>\n",
       "      <td>4194.188</td>\n",
       "      <td>4403.9</td>\n",
       "      <td>4445.6</td>\n",
       "      <td>4421.8</td>\n",
       "      <td>4655.000</td>\n",
       "      <td>4736.8</td>\n",
       "      <td>4986.8</td>\n",
       "    </tr>\n",
       "    <tr>\n",
       "      <th>47</th>\n",
       "      <td>Республика Марий Эл</td>\n",
       "      <td>telecom_phone_count_per_1000</td>\n",
       "      <td>1823.1</td>\n",
       "      <td>None</td>\n",
       "      <td>None</td>\n",
       "      <td>None</td>\n",
       "      <td>None</td>\n",
       "      <td>None</td>\n",
       "      <td>None</td>\n",
       "      <td>None</td>\n",
       "      <td>...</td>\n",
       "      <td>1611.9</td>\n",
       "      <td>1737.9</td>\n",
       "      <td>1861.9</td>\n",
       "      <td>1838.9</td>\n",
       "      <td>1846.6</td>\n",
       "      <td>1818.3</td>\n",
       "      <td>1758.1</td>\n",
       "      <td>1871.366</td>\n",
       "      <td>1785.6</td>\n",
       "      <td>None</td>\n",
       "    </tr>\n",
       "    <tr>\n",
       "      <th>65</th>\n",
       "      <td>Ямало-Ненецкий автономный округ</td>\n",
       "      <td>telecom_phone_count_per_1000</td>\n",
       "      <td>2435.7</td>\n",
       "      <td>None</td>\n",
       "      <td>None</td>\n",
       "      <td>None</td>\n",
       "      <td>None</td>\n",
       "      <td>None</td>\n",
       "      <td>None</td>\n",
       "      <td>None</td>\n",
       "      <td>...</td>\n",
       "      <td>2464.6</td>\n",
       "      <td>2570.7</td>\n",
       "      <td>2469.0</td>\n",
       "      <td>2683.7</td>\n",
       "      <td>2609.5</td>\n",
       "      <td>2314.2</td>\n",
       "      <td>2303.4</td>\n",
       "      <td>2441.961</td>\n",
       "      <td>2425.2</td>\n",
       "      <td>None</td>\n",
       "    </tr>\n",
       "    <tr>\n",
       "      <th>40</th>\n",
       "      <td>Кабардино-Балкарская Республика</td>\n",
       "      <td>telecom_phone_count_per_1000</td>\n",
       "      <td>1329.4</td>\n",
       "      <td>None</td>\n",
       "      <td>None</td>\n",
       "      <td>None</td>\n",
       "      <td>None</td>\n",
       "      <td>None</td>\n",
       "      <td>None</td>\n",
       "      <td>None</td>\n",
       "      <td>...</td>\n",
       "      <td>1305.8</td>\n",
       "      <td>1444.5</td>\n",
       "      <td>1405.2</td>\n",
       "      <td>1388.4</td>\n",
       "      <td>1297.8</td>\n",
       "      <td>1380.2</td>\n",
       "      <td>1316.8</td>\n",
       "      <td>1405.793</td>\n",
       "      <td>1343.1</td>\n",
       "      <td>None</td>\n",
       "    </tr>\n",
       "    <tr>\n",
       "      <th>29</th>\n",
       "      <td>Республика Адыгея</td>\n",
       "      <td>telecom_phone_count_per_1000</td>\n",
       "      <td>993.3</td>\n",
       "      <td>None</td>\n",
       "      <td>None</td>\n",
       "      <td>None</td>\n",
       "      <td>None</td>\n",
       "      <td>None</td>\n",
       "      <td>None</td>\n",
       "      <td>None</td>\n",
       "      <td>...</td>\n",
       "      <td>1226.5</td>\n",
       "      <td>1343.6</td>\n",
       "      <td>1295.9</td>\n",
       "      <td>1154.5</td>\n",
       "      <td>1114.1</td>\n",
       "      <td>1050.2</td>\n",
       "      <td>1030.4</td>\n",
       "      <td>1060.718</td>\n",
       "      <td>992.6</td>\n",
       "      <td>None</td>\n",
       "    </tr>\n",
       "    <tr>\n",
       "      <th>48</th>\n",
       "      <td>Ставропольский край</td>\n",
       "      <td>telecom_usage_per_person</td>\n",
       "      <td>36.0</td>\n",
       "      <td>0.021</td>\n",
       "      <td>0.025</td>\n",
       "      <td>0.133</td>\n",
       "      <td>1.872</td>\n",
       "      <td>10.9</td>\n",
       "      <td>37.986</td>\n",
       "      <td>62.561</td>\n",
       "      <td>...</td>\n",
       "      <td>4443.402</td>\n",
       "      <td>4637.305</td>\n",
       "      <td>4636.843</td>\n",
       "      <td>4565.004</td>\n",
       "      <td>4525.4</td>\n",
       "      <td>4826.8</td>\n",
       "      <td>5205.6</td>\n",
       "      <td>5511.300</td>\n",
       "      <td>5602.6</td>\n",
       "      <td>5814.0</td>\n",
       "    </tr>\n",
       "    <tr>\n",
       "      <th>10</th>\n",
       "      <td>Московская область</td>\n",
       "      <td>telecom_usage_per_person</td>\n",
       "      <td>NaN</td>\n",
       "      <td>…</td>\n",
       "      <td>…</td>\n",
       "      <td>…</td>\n",
       "      <td>…</td>\n",
       "      <td>…</td>\n",
       "      <td>…</td>\n",
       "      <td>…</td>\n",
       "      <td>...</td>\n",
       "      <td>…</td>\n",
       "      <td>…</td>\n",
       "      <td>…</td>\n",
       "      <td>…</td>\n",
       "      <td>NaN</td>\n",
       "      <td>NaN</td>\n",
       "      <td>NaN</td>\n",
       "      <td>NaN</td>\n",
       "      <td>NaN</td>\n",
       "      <td>NaN</td>\n",
       "    </tr>\n",
       "    <tr>\n",
       "      <th>67</th>\n",
       "      <td>Тюменская область</td>\n",
       "      <td>telecom_usage_per_person</td>\n",
       "      <td>NaN</td>\n",
       "      <td>0.021</td>\n",
       "      <td>0.03</td>\n",
       "      <td>0.236</td>\n",
       "      <td>3.115</td>\n",
       "      <td>26.483</td>\n",
       "      <td>88.595</td>\n",
       "      <td>192.707</td>\n",
       "      <td>...</td>\n",
       "      <td>8810.722</td>\n",
       "      <td>9167.135</td>\n",
       "      <td>8830.336</td>\n",
       "      <td>8575.131</td>\n",
       "      <td>7757.6</td>\n",
       "      <td>7639.9</td>\n",
       "      <td>7086.7</td>\n",
       "      <td>6937.100</td>\n",
       "      <td>6924.7</td>\n",
       "      <td>7048.6</td>\n",
       "    </tr>\n",
       "    <tr>\n",
       "      <th>26</th>\n",
       "      <td>Псковская область</td>\n",
       "      <td>telecom_phone_count_per_1000</td>\n",
       "      <td>1946.0</td>\n",
       "      <td>None</td>\n",
       "      <td>None</td>\n",
       "      <td>None</td>\n",
       "      <td>None</td>\n",
       "      <td>None</td>\n",
       "      <td>None</td>\n",
       "      <td>None</td>\n",
       "      <td>...</td>\n",
       "      <td>1731.5</td>\n",
       "      <td>1749.7</td>\n",
       "      <td>1725.3</td>\n",
       "      <td>1820</td>\n",
       "      <td>1819.5</td>\n",
       "      <td>1910.3</td>\n",
       "      <td>1861.5</td>\n",
       "      <td>1868.336</td>\n",
       "      <td>1881.2</td>\n",
       "      <td>None</td>\n",
       "    </tr>\n",
       "    <tr>\n",
       "      <th>19</th>\n",
       "      <td>Республика Карелия</td>\n",
       "      <td>telecom_phone_count_per_1000</td>\n",
       "      <td>2014.6</td>\n",
       "      <td>None</td>\n",
       "      <td>None</td>\n",
       "      <td>None</td>\n",
       "      <td>None</td>\n",
       "      <td>None</td>\n",
       "      <td>None</td>\n",
       "      <td>None</td>\n",
       "      <td>...</td>\n",
       "      <td>1874.7</td>\n",
       "      <td>1860.6</td>\n",
       "      <td>1753.4</td>\n",
       "      <td>1818.4</td>\n",
       "      <td>1769.0</td>\n",
       "      <td>1858.6</td>\n",
       "      <td>1794.8</td>\n",
       "      <td>1866.348</td>\n",
       "      <td>1888.1</td>\n",
       "      <td>None</td>\n",
       "    </tr>\n",
       "  </tbody>\n",
       "</table>\n",
       "<p>10 rows × 35 columns</p>\n",
       "</div>"
      ],
      "text/plain": [
       "                             region                    value_type   place  \\\n",
       "79              Кемеровская область      telecom_usage_per_person    64.0   \n",
       "47              Республика Марий Эл  telecom_phone_count_per_1000  1823.1   \n",
       "65  Ямало-Ненецкий автономный округ  telecom_phone_count_per_1000  2435.7   \n",
       "40  Кабардино-Балкарская Республика  telecom_phone_count_per_1000  1329.4   \n",
       "29                Республика Адыгея  telecom_phone_count_per_1000   993.3   \n",
       "48              Ставропольский край      telecom_usage_per_person    36.0   \n",
       "10               Московская область      telecom_usage_per_person     NaN   \n",
       "67               Тюменская область       telecom_usage_per_person     NaN   \n",
       "26                Псковская область  telecom_phone_count_per_1000  1946.0   \n",
       "19               Республика Карелия  telecom_phone_count_per_1000  2014.6   \n",
       "\n",
       "     1990   1991   1992   1993    1994    1995     1996  ...      2012  \\\n",
       "79  0.013  0.018  0.137  2.037  10.282  31.126   65.321  ...  4213.377   \n",
       "47   None   None   None   None    None    None     None  ...    1611.9   \n",
       "65   None   None   None   None    None    None     None  ...    2464.6   \n",
       "40   None   None   None   None    None    None     None  ...    1305.8   \n",
       "29   None   None   None   None    None    None     None  ...    1226.5   \n",
       "48  0.021  0.025  0.133  1.872    10.9  37.986   62.561  ...  4443.402   \n",
       "10      …      …      …      …       …       …        …  ...         …   \n",
       "67  0.021   0.03  0.236  3.115  26.483  88.595  192.707  ...  8810.722   \n",
       "26   None   None   None   None    None    None     None  ...    1731.5   \n",
       "19   None   None   None   None    None    None     None  ...    1874.7   \n",
       "\n",
       "        2013      2014      2015    2016    2017    2018      2019    2020  \\\n",
       "79  4455.493  4382.932  4194.188  4403.9  4445.6  4421.8  4655.000  4736.8   \n",
       "47    1737.9    1861.9    1838.9  1846.6  1818.3  1758.1  1871.366  1785.6   \n",
       "65    2570.7    2469.0    2683.7  2609.5  2314.2  2303.4  2441.961  2425.2   \n",
       "40    1444.5    1405.2    1388.4  1297.8  1380.2  1316.8  1405.793  1343.1   \n",
       "29    1343.6    1295.9    1154.5  1114.1  1050.2  1030.4  1060.718   992.6   \n",
       "48  4637.305  4636.843  4565.004  4525.4  4826.8  5205.6  5511.300  5602.6   \n",
       "10         …         …         …     NaN     NaN     NaN       NaN     NaN   \n",
       "67  9167.135  8830.336  8575.131  7757.6  7639.9  7086.7  6937.100  6924.7   \n",
       "26    1749.7    1725.3      1820  1819.5  1910.3  1861.5  1868.336  1881.2   \n",
       "19    1860.6    1753.4    1818.4  1769.0  1858.6  1794.8  1866.348  1888.1   \n",
       "\n",
       "      2021  \n",
       "79  4986.8  \n",
       "47    None  \n",
       "65    None  \n",
       "40    None  \n",
       "29    None  \n",
       "48  5814.0  \n",
       "10     NaN  \n",
       "67  7048.6  \n",
       "26    None  \n",
       "19    None  \n",
       "\n",
       "[10 rows x 35 columns]"
      ]
     },
     "execution_count": 12,
     "metadata": {},
     "output_type": "execute_result"
    }
   ],
   "source": [
    "telecom_tech.sample(10)"
   ]
  },
  {
   "cell_type": "code",
   "execution_count": 13,
   "metadata": {
    "id": "-x1n33UQoS-B"
   },
   "outputs": [],
   "source": [
    "final_df = telecom_tech[['region', 'value_type', 'place', years[0]]].rename(columns={years[0]: \"value\"})\n",
    "final_df['year'] = years[0]\n",
    "for x in years[1:]:\n",
    "  current_df = telecom_tech[['region', 'value_type', 'place', x]].rename(columns={x: \"value\"})\n",
    "  current_df['year'] = x\n",
    "  final_df = pd.concat([final_df, current_df])"
   ]
  },
  {
   "cell_type": "code",
   "execution_count": 14,
   "metadata": {
    "id": "hWbZRJcwJhaq"
   },
   "outputs": [],
   "source": [
    "telecom_to_load = final_df[~final_df['region'].str.contains('округ')]"
   ]
  },
  {
   "cell_type": "markdown",
   "metadata": {
    "id": "5xnVT2ZjWpRG"
   },
   "source": [
    "# Источник 2:\n",
    "\n",
    "\n",
    "*   Средняя заработная плата по регионам\n",
    "\n",
    "\n"
   ]
  },
  {
   "cell_type": "code",
   "execution_count": 15,
   "metadata": {
    "id": "ZLU4a0AsW1qr"
   },
   "outputs": [],
   "source": [
    "url = 'https://rosstat.gov.ru/labor_market_employment_salaries'\n",
    "data = requests.get(url).text"
   ]
  },
  {
   "cell_type": "code",
   "execution_count": 16,
   "metadata": {
    "id": "HHMpjo9SYEAY"
   },
   "outputs": [],
   "source": [
    "soup = BeautifulSoup(data, 'html.parser')"
   ]
  },
  {
   "cell_type": "code",
   "execution_count": 17,
   "metadata": {
    "id": "jmp56yg4Lvvb"
   },
   "outputs": [],
   "source": [
    "# по данному датасету отличается структура тэгов\n",
    "def get_links_dict_2(soup):\n",
    "  xls_blocks = soup.find_all('div',{'class':'document-list__item document-list__item--col'})\n",
    "  dimSource = {}\n",
    "\n",
    "  for idx in range(len(xls_blocks)):\n",
    "    title = xls_blocks[idx].find('div',{'class':'document-list__item-title'}).get_text().replace(\"\\n\", \"\").strip()\n",
    "    content = xls_blocks[idx].find('a',{'class':'btn btn-icon btn-white btn-br btn-sm'}).get('href')\n",
    "    download_link = connect_xls_url + content\n",
    "    dimSource[title] = download_link\n",
    "\n",
    "  return dimSource"
   ]
  },
  {
   "cell_type": "code",
   "execution_count": 18,
   "metadata": {
    "id": "o_QQuNR0XSU6"
   },
   "outputs": [],
   "source": [
    "dimSource = get_links_dict_2(soup)"
   ]
  },
  {
   "cell_type": "code",
   "execution_count": 19,
   "metadata": {
    "id": "Q30c6jGxOSj-"
   },
   "outputs": [],
   "source": [
    "def parse_df_2(link, sheet_name, skiprows, skipfooter):\n",
    "  df = pd.read_excel(\n",
    "    link, \n",
    "    sheet_name=sheet_name, \n",
    "    skiprows=skiprows,\n",
    "    skipfooter=skipfooter\n",
    "  )\n",
    "\n",
    "  df.replace({'...': None}, inplace=True)\n",
    "\n",
    "  return df"
   ]
  },
  {
   "cell_type": "code",
   "execution_count": 20,
   "metadata": {
    "id": "KM4QedKRmK9A"
   },
   "outputs": [],
   "source": [
    "df_telecom_name = 'Среднемесячная номинальная начисленная заработная плата работников в целом по экономике по субъектам Российской Федерации за 2000-2021 гг.'\n",
    "df_salary_2018_2021 = parse_df_2(\n",
    "    dimSource[df_telecom_name], \n",
    "    sheet_name=1, \n",
    "    skiprows=1, \n",
    "    skipfooter=0 \n",
    ").rename(columns={'Unnamed: 0': \"region\"})\n",
    "\n",
    "df_salary_2000_2017 = parse_df_2(\n",
    "    dimSource[df_telecom_name], \n",
    "    sheet_name=0, \n",
    "    skiprows=3, \n",
    "    skipfooter=2 \n",
    ").rename(columns={'Unnamed: 0': \"region\"})\n"
   ]
  },
  {
   "cell_type": "code",
   "execution_count": 21,
   "metadata": {
    "id": "_J_1iIKTO0f1"
   },
   "outputs": [],
   "source": [
    "df_salary_2000_2021 = pd.concat([df_salary_2000_2017, df_salary_2018_2021[df_salary_2018_2021.columns[1:]]], axis=1)"
   ]
  },
  {
   "cell_type": "code",
   "execution_count": 22,
   "metadata": {
    "id": "tBBxS4nTQf8T"
   },
   "outputs": [],
   "source": [
    "years = list(df_salary_2000_2021.columns[1:])"
   ]
  },
  {
   "cell_type": "code",
   "execution_count": 23,
   "metadata": {
    "id": "I88Dr0-rSQY4"
   },
   "outputs": [],
   "source": [
    "final_df = df_salary_2000_2021[['region', years[0]]].rename(columns={years[0]: \"value\"})\n",
    "final_df['year'] = years[0]\n",
    "for x in years[1:]:\n",
    "  current_df = df_salary_2000_2021[['region', x]].rename(columns={x: \"value\"})\n",
    "  current_df['year'] = x\n",
    "  final_df = pd.concat([final_df, current_df])"
   ]
  },
  {
   "cell_type": "code",
   "execution_count": 24,
   "metadata": {
    "id": "uexOI3cQV1LQ"
   },
   "outputs": [],
   "source": [
    "salary_to_load = final_df[~final_df['region'].str.contains('округ')]\n",
    "salary_to_load = salary_to_load[~salary_to_load['region'].str.contains('Российская Федерация')]"
   ]
  },
  {
   "cell_type": "code",
   "execution_count": 25,
   "metadata": {
    "id": "3Fy-LP1PV2bz"
   },
   "outputs": [],
   "source": [
    "salary_to_load = salary_to_load[~salary_to_load['region'].str.contains('в том числе')]"
   ]
  },
  {
   "cell_type": "markdown",
   "metadata": {
    "id": "oFoiMXaPW7FM"
   },
   "source": [
    "# Источник 3\n",
    "\n",
    "\n",
    "*   Численность населения\n",
    "\n",
    "\n"
   ]
  },
  {
   "cell_type": "code",
   "execution_count": 26,
   "metadata": {
    "id": "2TVZ5n40hLBu"
   },
   "outputs": [],
   "source": [
    "df_population = parse_df_2(\n",
    "    'https://rosstat.gov.ru/storage/mediabank/chisl_%D0%9C%D0%9E_Site_01-01-2022.xlsx', \n",
    "    sheet_name=1, \n",
    "    skiprows=6, \n",
    "    skipfooter=0 \n",
    ")"
   ]
  },
  {
   "cell_type": "code",
   "execution_count": 27,
   "metadata": {
    "id": "Ai5kYbken6Qj"
   },
   "outputs": [],
   "source": [
    "Regs = parse_df_2(\n",
    "    'https://rosstat.gov.ru/storage/mediabank/chisl_%D0%9C%D0%9E_Site_01-01-2022.xlsx', \n",
    "    sheet_name=0, \n",
    "    skiprows=0, \n",
    "    skipfooter=0 \n",
    ")['Перечень субъектов РФ'].unique()"
   ]
  },
  {
   "cell_type": "code",
   "execution_count": 28,
   "metadata": {
    "id": "EYV_IAL1nOgI"
   },
   "outputs": [],
   "source": [
    "df_population = df_population.rename(columns={'Unnamed: 1':'region','(человек)':'population'})"
   ]
  },
  {
   "cell_type": "code",
   "execution_count": 29,
   "metadata": {
    "colab": {
     "base_uri": "https://localhost:8080/"
    },
    "id": "t2swCZSonauJ",
    "outputId": "4f089744-e093-4cbe-df5f-fd8ddf6f3a87"
   },
   "outputs": [],
   "source": [
    "df_population = df_population[['region','population']]\n",
    "df_population['year'] = 2022"
   ]
  },
  {
   "cell_type": "code",
   "execution_count": 30,
   "metadata": {
    "id": "u4bCS4hKq3Ds"
   },
   "outputs": [],
   "source": [
    "df_population = df_population[df_population['region'].isin(Regs)]"
   ]
  },
  {
   "cell_type": "markdown",
   "metadata": {
    "id": "dCxImJKJrrON"
   },
   "source": [
    "Сбор данных в один xlsx файл"
   ]
  },
  {
   "cell_type": "code",
   "execution_count": 32,
   "metadata": {
    "id": "cHmCcUmwuVVp"
   },
   "outputs": [],
   "source": [
    "writer = pd.ExcelWriter('./data/main.xlsx', engine='xlsxwriter')\n",
    "\n",
    "#write each DataFrame to a specific sheet\n",
    "df_population.to_excel(writer, sheet_name='Численность населения', index=False)\n",
    "salary_to_load.to_excel(writer, sheet_name='Средняя зарплата', index=False)\n",
    "telecom_to_load.to_excel(writer, sheet_name='Телеком', index=False)\n",
    "\n",
    "#close the Pandas Excel writer and output the Excel file\n",
    "writer.save()"
   ]
  }
 ],
 "metadata": {
  "colab": {
   "collapsed_sections": [],
   "provenance": []
  },
  "kernelspec": {
   "display_name": "Python 3.8.8 ('base')",
   "language": "python",
   "name": "python3"
  },
  "language_info": {
   "codemirror_mode": {
    "name": "ipython",
    "version": 3
   },
   "file_extension": ".py",
   "mimetype": "text/x-python",
   "name": "python",
   "nbconvert_exporter": "python",
   "pygments_lexer": "ipython3",
   "version": "3.8.8"
  },
  "vscode": {
   "interpreter": {
    "hash": "b54749c3703457aec6370bec6f96075e60f5c8fc8f55c2c78d630081b4c6f61f"
   }
  }
 },
 "nbformat": 4,
 "nbformat_minor": 1
}
